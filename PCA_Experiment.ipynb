{
  "metadata": {
    "kernelspec": {
      "language": "python",
      "display_name": "Python 3",
      "name": "python3"
    },
    "language_info": {
      "name": "python",
      "version": "3.10.12",
      "mimetype": "text/x-python",
      "codemirror_mode": {
        "name": "ipython",
        "version": 3
      },
      "pygments_lexer": "ipython3",
      "nbconvert_exporter": "python",
      "file_extension": ".py"
    },
    "kaggle": {
      "accelerator": "none",
      "dataSources": [],
      "dockerImageVersionId": 30918,
      "isInternetEnabled": true,
      "language": "python",
      "sourceType": "notebook",
      "isGpuEnabled": false
    },
    "colab": {
      "name": "PCA Experiment",
      "provenance": [],
      "include_colab_link": true
    }
  },
  "nbformat_minor": 0,
  "nbformat": 4,
  "cells": [
    {
      "cell_type": "markdown",
      "metadata": {
        "id": "view-in-github",
        "colab_type": "text"
      },
      "source": [
        "<a href=\"https://colab.research.google.com/github/Dev-180Memes/pca-project/blob/main/PCA_Experiment.ipynb\" target=\"_parent\"><img src=\"https://colab.research.google.com/assets/colab-badge.svg\" alt=\"Open In Colab\"/></a>"
      ]
    },
    {
      "cell_type": "code",
      "source": [
        "import numpy as np\n",
        "import tensorflow as tf\n",
        "from sklearn.decomposition import PCA, SparsePCA, KernelPCA\n",
        "from sklearn.preprocessing import StandardScaler\n",
        "import time\n",
        "import psutil\n",
        "import os\n",
        "import matplotlib.pyplot as plt"
      ],
      "metadata": {
        "_uuid": "8f2839f25d086af736a60e9eeb907d3b93b6e0e5",
        "_cell_guid": "b1076dfc-b9ad-4769-8c92-a6c4dae69d19",
        "trusted": true,
        "execution": {
          "iopub.status.busy": "2025-03-21T09:22:07.325962Z",
          "iopub.execute_input": "2025-03-21T09:22:07.326365Z",
          "iopub.status.idle": "2025-03-21T09:22:17.626954Z",
          "shell.execute_reply.started": "2025-03-21T09:22:07.326332Z",
          "shell.execute_reply": "2025-03-21T09:22:17.62587Z"
        },
        "id": "YLXY2n2_L4tC"
      },
      "outputs": [],
      "execution_count": null
    },
    {
      "cell_type": "code",
      "source": [
        "def get_memory_usage():\n",
        "  process = psutil.Process(os.getpid())\n",
        "  return process.memory_info().rss / 1024 / 1024"
      ],
      "metadata": {
        "trusted": true,
        "execution": {
          "iopub.status.busy": "2025-03-21T09:22:17.628372Z",
          "iopub.execute_input": "2025-03-21T09:22:17.629139Z",
          "iopub.status.idle": "2025-03-21T09:22:17.633983Z",
          "shell.execute_reply.started": "2025-03-21T09:22:17.629106Z",
          "shell.execute_reply": "2025-03-21T09:22:17.632697Z"
        },
        "id": "aeR8akb4L4xT"
      },
      "outputs": [],
      "execution_count": null
    },
    {
      "cell_type": "code",
      "source": [
        "def reconstruction_error(original, reconstructed):\n",
        "  return np.mean(np.square(original - reconstructed))\n",
        "\n",
        "def sparsity_level(matrix):\n",
        "  return 1.0 - (np.count_nonzero(matrix) / float(matrix.size))"
      ],
      "metadata": {
        "trusted": true,
        "execution": {
          "iopub.status.busy": "2025-03-21T09:22:17.63568Z",
          "iopub.execute_input": "2025-03-21T09:22:17.636017Z",
          "iopub.status.idle": "2025-03-21T09:22:17.659138Z",
          "shell.execute_reply.started": "2025-03-21T09:22:17.635978Z",
          "shell.execute_reply": "2025-03-21T09:22:17.657952Z"
        },
        "id": "_SINUONdL4xf"
      },
      "outputs": [],
      "execution_count": null
    },
    {
      "cell_type": "code",
      "source": [
        "def visualize_samples(original, reconstructions, method_names, n_samples=5):\n",
        "    fig, axes = plt.subplots(n_samples, len(method_names) + 1, figsize=(15, 2*n_samples))\n",
        "    for i in range(n_samples):\n",
        "        axes[i, 0].imshow(original[i].reshape(28, 28), cmap='gray')\n",
        "        axes[i, 0].axis('off')\n",
        "        if i == 0:\n",
        "            axes[i, 0].set_title('Original')\n",
        "        for j, (recon, name) in enumerate(zip(reconstructions, method_names)):\n",
        "            axes[i, j+1].imshow(recon[i].reshape(28, 28), cmap='gray')\n",
        "            axes[i, j+1].axis('off')\n",
        "            if i == 0:\n",
        "                axes[i, j+1].set_title(name)\n",
        "    plt.tight_layout()\n",
        "    plt.savefig('mnist_reconstructions.png')\n",
        "    plt.close()"
      ],
      "metadata": {
        "trusted": true,
        "execution": {
          "iopub.status.busy": "2025-03-21T09:22:17.66054Z",
          "iopub.execute_input": "2025-03-21T09:22:17.660918Z",
          "iopub.status.idle": "2025-03-21T09:22:17.678988Z",
          "shell.execute_reply.started": "2025-03-21T09:22:17.660878Z",
          "shell.execute_reply": "2025-03-21T09:22:17.677626Z"
        },
        "id": "LZCMU7p6L4ye"
      },
      "outputs": [],
      "execution_count": null
    },
    {
      "cell_type": "code",
      "source": [
        "def visualize_metrics(metrics):\n",
        "    methods = list(metrics.keys())\n",
        "    evr = [metrics[m]['evr'] for m in methods]\n",
        "    recon_error = [metrics[m]['recon_error'] for m in methods]\n",
        "    sparsity = [metrics[m]['sparsity'] for m in methods]\n",
        "\n",
        "    fig, (ax1, ax2, ax3) = plt.subplots(1, 3, figsize=(15, 5))\n",
        "    ax1.bar(methods, evr, color=['#1f77b4', '#ff7f0e', '#2ca02c'])\n",
        "    ax1.set_title('Explained Variance Ratio')\n",
        "    ax1.set_ylim(0, 1)\n",
        "    ax1.tick_params(axis='x', rotation=45)\n",
        "    ax2.bar(methods, recon_error, color=['#1f77b4', '#ff7f0e', '#2ca02c'])\n",
        "    ax2.set_title('Reconstruction Error')\n",
        "    ax2.tick_params(axis='x', rotation=45)\n",
        "    ax3.bar(methods, sparsity, color=['#1f77b4', '#ff7f0e', '#2ca02c'])\n",
        "    ax3.set_title('Sparsity Level')\n",
        "    ax3.set_ylim(0, 1)\n",
        "    ax3.tick_params(axis='x', rotation=45)\n",
        "    plt.tight_layout()\n",
        "    plt.savefig('pca_metrics_comparison.png')\n",
        "    plt.close()"
      ],
      "metadata": {
        "trusted": true,
        "execution": {
          "iopub.status.busy": "2025-03-21T09:22:17.680086Z",
          "iopub.execute_input": "2025-03-21T09:22:17.680428Z",
          "iopub.status.idle": "2025-03-21T09:22:17.693362Z",
          "shell.execute_reply.started": "2025-03-21T09:22:17.680399Z",
          "shell.execute_reply": "2025-03-21T09:22:17.692282Z"
        },
        "id": "kIMNYg70L4yf"
      },
      "outputs": [],
      "execution_count": null
    },
    {
      "cell_type": "code",
      "source": [
        "(x_train, _), (_, _) = tf.keras.datasets.mnist.load_data()\n",
        "X = x_train.reshape(-1, 784).astype(np.float32) / 255.0\n",
        "scaler = StandardScaler()\n",
        "X_scaled = scaler.fit_transform(X)"
      ],
      "metadata": {
        "trusted": true,
        "execution": {
          "iopub.status.busy": "2025-03-21T09:22:49.675516Z",
          "iopub.execute_input": "2025-03-21T09:22:49.676598Z",
          "iopub.status.idle": "2025-03-21T09:22:51.809597Z",
          "shell.execute_reply.started": "2025-03-21T09:22:49.676433Z",
          "shell.execute_reply": "2025-03-21T09:22:51.808604Z"
        },
        "id": "geNLxTIPL4yh"
      },
      "outputs": [],
      "execution_count": null
    },
    {
      "cell_type": "code",
      "source": [
        "metrics = {\n",
        "    'Traditional': {'evr': 0, 'recon_error': 0, 'sparsity': 0, 'time': 0, 'memory': 0},\n",
        "    'Sparse': {'evr': 0, 'recon_error': 0, 'sparsity': 0, 'time': 0, 'memory': 0}\n",
        "}\n",
        "reconstructions = []"
      ],
      "metadata": {
        "trusted": true,
        "execution": {
          "iopub.status.busy": "2025-03-21T09:22:51.811117Z",
          "iopub.execute_input": "2025-03-21T09:22:51.811505Z",
          "iopub.status.idle": "2025-03-21T09:22:51.8169Z",
          "shell.execute_reply.started": "2025-03-21T09:22:51.811409Z",
          "shell.execute_reply": "2025-03-21T09:22:51.815613Z"
        },
        "id": "Jk1-U0QOL4yp"
      },
      "outputs": [],
      "execution_count": null
    },
    {
      "cell_type": "code",
      "source": [
        "n_components=50"
      ],
      "metadata": {
        "trusted": true,
        "execution": {
          "iopub.status.busy": "2025-03-21T09:22:52.019022Z",
          "iopub.execute_input": "2025-03-21T09:22:52.019368Z",
          "iopub.status.idle": "2025-03-21T09:22:52.024388Z",
          "shell.execute_reply.started": "2025-03-21T09:22:52.019341Z",
          "shell.execute_reply": "2025-03-21T09:22:52.02307Z"
        },
        "id": "EL1NrWB9L4yq"
      },
      "outputs": [],
      "execution_count": null
    },
    {
      "cell_type": "code",
      "source": [
        "start_time = time.time()\n",
        "start_memory = get_memory_usage()\n",
        "pca = PCA(n_components=n_components)\n",
        "X_pca = pca.fit_transform(X_scaled)\n",
        "X_reconstructed = pca.inverse_transform(X_pca)\n",
        "\n",
        "metrics['Traditional']['time'] = time.time() - start_time\n",
        "metrics['Traditional']['memory'] = get_memory_usage() - start_memory\n",
        "metrics['Traditional']['evr'] = np.sum(pca.explained_variance_ratio_)\n",
        "metrics['Traditional']['recon_error'] = reconstruction_error(X_scaled, X_reconstructed)\n",
        "metrics['Traditional']['sparsity'] = sparsity_level(pca.components_)\n",
        "reconstructions.append(scaler.inverse_transform(X_reconstructed))"
      ],
      "metadata": {
        "trusted": true,
        "execution": {
          "iopub.status.busy": "2025-03-21T09:22:52.72048Z",
          "iopub.execute_input": "2025-03-21T09:22:52.720875Z",
          "iopub.status.idle": "2025-03-21T09:22:55.430297Z",
          "shell.execute_reply.started": "2025-03-21T09:22:52.720846Z",
          "shell.execute_reply": "2025-03-21T09:22:55.429164Z"
        },
        "id": "jniAMG-iL4yr"
      },
      "outputs": [],
      "execution_count": null
    },
    {
      "cell_type": "code",
      "source": [
        "start_time = time.time()\n",
        "start_memory = get_memory_usage()\n",
        "sparse_pca = SparsePCA(n_components=n_components, alpha=1.0, ridge_alpha=0.01)\n",
        "X_sparse = sparse_pca.fit_transform(X_scaled)\n",
        "X_reconstructed_sparse = np.dot(X_sparse, sparse_pca.components_) + sparse_pca.mean_\n",
        "\n",
        "total_var = np.var(X_scaled, axis=0).sum()\n",
        "recon_var = np.var(X_reconstructed_sparse, axis=0).sum()\n",
        "\n",
        "metrics['Sparse']['time'] = time.time() - start_time\n",
        "metrics['Sparse']['memory'] = get_memory_usage() - start_memory\n",
        "metrics['Sparse']['evr'] = recon_var / total_var if total_var > 0 else 0\n",
        "metrics['Sparse']['recon_error'] = reconstruction_error(X_scaled, X_reconstructed_sparse)\n",
        "metrics['Sparse']['sparsity'] = sparsity_level(sparse_pca.components_)\n",
        "reconstructions.append(scaler.inverse_transform(X_reconstructed_sparse))"
      ],
      "metadata": {
        "trusted": true,
        "execution": {
          "iopub.status.busy": "2025-03-21T09:22:57.521616Z",
          "iopub.execute_input": "2025-03-21T09:22:57.521991Z",
          "iopub.status.idle": "2025-03-21T09:40:12.296765Z",
          "shell.execute_reply.started": "2025-03-21T09:22:57.521964Z",
          "shell.execute_reply": "2025-03-21T09:40:12.29567Z"
        },
        "id": "Z75uxSNdL41G",
        "outputId": "145eed5f-a7e0-4ede-ecb7-56118605af8c"
      },
      "outputs": [
        {
          "name": "stderr",
          "text": "/usr/local/lib/python3.10/dist-packages/sklearn/linear_model/_least_angle.py:678: ConvergenceWarning: Early stopping the lars path, as the residues are small and the current value of alpha is no longer well controlled. 14 iterations, alpha=2.299e-04, previous alpha=2.299e-04, with an active set of 15 regressors.\n  warnings.warn(\n",
          "output_type": "stream"
        }
      ],
      "execution_count": null
    },
    {
      "cell_type": "code",
      "source": [
        "samples_viz = visualize_samples(X[:5], [r[:5] for r in reconstructions],\n",
        "                 ['Traditional PCA', 'Sparse PCA'])\n",
        "metrics_viz = visualize_metrics(metrics)"
      ],
      "metadata": {
        "trusted": true,
        "execution": {
          "iopub.status.busy": "2025-03-21T09:45:52.814493Z",
          "iopub.execute_input": "2025-03-21T09:45:52.814946Z",
          "iopub.status.idle": "2025-03-21T09:45:53.848007Z",
          "shell.execute_reply.started": "2025-03-21T09:45:52.814918Z",
          "shell.execute_reply": "2025-03-21T09:45:53.846977Z"
        },
        "id": "iQLPEudeL41N"
      },
      "outputs": [],
      "execution_count": null
    },
    {
      "cell_type": "code",
      "source": [
        "samples_viz"
      ],
      "metadata": {
        "trusted": true,
        "execution": {
          "iopub.status.busy": "2025-03-21T09:46:00.80431Z",
          "iopub.execute_input": "2025-03-21T09:46:00.804748Z",
          "iopub.status.idle": "2025-03-21T09:46:00.809811Z",
          "shell.execute_reply.started": "2025-03-21T09:46:00.80471Z",
          "shell.execute_reply": "2025-03-21T09:46:00.808341Z"
        },
        "id": "HbYFNdmkL41N"
      },
      "outputs": [],
      "execution_count": null
    },
    {
      "cell_type": "code",
      "source": [
        "for method in metrics:\n",
        "    print(f\"\\n{method}:\")\n",
        "    print(f\"Explained Variance Ratio: {metrics[method]['evr']:.4f}\")\n",
        "    print(f\"Reconstruction Error: {metrics[method]['recon_error']:.4f}\")\n",
        "    print(f\"Sparsity Level: {metrics[method]['sparsity']:.4f}\")\n",
        "    print(f\"Execution Time: {metrics[method]['time']:.2f} seconds\")\n",
        "    print(f\"Memory Utilization: {metrics[method]['memory']:.2f} MB\")"
      ],
      "metadata": {
        "trusted": true,
        "execution": {
          "iopub.status.busy": "2025-03-21T09:41:03.594218Z",
          "iopub.execute_input": "2025-03-21T09:41:03.59465Z",
          "iopub.status.idle": "2025-03-21T09:41:03.603922Z",
          "shell.execute_reply.started": "2025-03-21T09:41:03.594612Z",
          "shell.execute_reply": "2025-03-21T09:41:03.602736Z"
        },
        "id": "AD7JLmWLL41T",
        "outputId": "5526f9f8-d1e5-44e9-8bff-4400daa7cc21"
      },
      "outputs": [
        {
          "name": "stdout",
          "text": "\nTraditional:\nExplained Variance Ratio: 0.5507\nReconstruction Error: 0.4110\nSparsity Level: 0.0514\nExecution Time: 2.14 seconds\nMemory Utilization: 232.69 MB\n\nSparse:\nExplained Variance Ratio: 0.5395\nReconstruction Error: 0.4114\nSparsity Level: 0.3049\nExecution Time: 1034.23 seconds\nMemory Utilization: 229.85 MB\n",
          "output_type": "stream"
        }
      ],
      "execution_count": null
    },
    {
      "cell_type": "code",
      "source": [],
      "metadata": {
        "trusted": true,
        "id": "grgFZjG4L43K"
      },
      "outputs": [],
      "execution_count": null
    }
  ]
}